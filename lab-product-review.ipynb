{
 "cells": [
  {
   "cell_type": "markdown",
   "metadata": {},
   "source": [
    "# Lab | Products review"
   ]
  },
  {
   "cell_type": "code",
   "execution_count": 73,
   "metadata": {
    "_cell_guid": "79c7e3d0-c299-4dcb-8224-4455121ee9b0",
    "_uuid": "d629ff2d2480ee46fbb7e2d37f6b5fab8052498a",
    "tags": []
   },
   "outputs": [],
   "source": [
    "import numpy as np\n",
    "import pandas as pd\n",
    "import seaborn as sns\n",
    "import matplotlib.pyplot as plt\n",
    "from sklearn.feature_extraction.text import CountVectorizer\n",
    "from sklearn.feature_extraction.text import TfidfVectorizer\n",
    "from nltk.corpus import stopwords\n",
    "import re,string\n",
    "from sklearn.naive_bayes import MultinomialNB\n",
    "from sklearn.metrics import classification_report,confusion_matrix,accuracy_score\n",
    "from sklearn.model_selection import train_test_split\n",
    "from string import punctuation"
   ]
  },
  {
   "cell_type": "code",
   "execution_count": 74,
   "metadata": {
    "tags": []
   },
   "outputs": [],
   "source": [
    "df = pd.read_csv(\"./datasets/kindle_reviews_sampled.csv.zip\")"
   ]
  },
  {
   "cell_type": "code",
   "execution_count": 75,
   "metadata": {
    "tags": []
   },
   "outputs": [
    {
     "data": {
      "text/html": [
       "<div>\n",
       "<style scoped>\n",
       "    .dataframe tbody tr th:only-of-type {\n",
       "        vertical-align: middle;\n",
       "    }\n",
       "\n",
       "    .dataframe tbody tr th {\n",
       "        vertical-align: top;\n",
       "    }\n",
       "\n",
       "    .dataframe thead th {\n",
       "        text-align: right;\n",
       "    }\n",
       "</style>\n",
       "<table border=\"1\" class=\"dataframe\">\n",
       "  <thead>\n",
       "    <tr style=\"text-align: right;\">\n",
       "      <th></th>\n",
       "      <th>Unnamed: 0</th>\n",
       "      <th>asin</th>\n",
       "      <th>helpful</th>\n",
       "      <th>overall</th>\n",
       "      <th>reviewText</th>\n",
       "      <th>reviewTime</th>\n",
       "      <th>reviewerID</th>\n",
       "      <th>reviewerName</th>\n",
       "      <th>summary</th>\n",
       "      <th>unixReviewTime</th>\n",
       "    </tr>\n",
       "  </thead>\n",
       "  <tbody>\n",
       "    <tr>\n",
       "      <th>0</th>\n",
       "      <td>130918</td>\n",
       "      <td>B0063LXXOA</td>\n",
       "      <td>[0, 0]</td>\n",
       "      <td>4</td>\n",
       "      <td>I liked this story going back to visist the fi...</td>\n",
       "      <td>01 16, 2013</td>\n",
       "      <td>A66QR0ZQ8YET8</td>\n",
       "      <td>K. Floyd</td>\n",
       "      <td>Every Second Counts</td>\n",
       "      <td>1358294400</td>\n",
       "    </tr>\n",
       "    <tr>\n",
       "      <th>1</th>\n",
       "      <td>464192</td>\n",
       "      <td>B00BU67NY4</td>\n",
       "      <td>[0, 0]</td>\n",
       "      <td>5</td>\n",
       "      <td>Not your typical love story. Popsicle was beyo...</td>\n",
       "      <td>03 19, 2013</td>\n",
       "      <td>A9I2OPQT76SPD</td>\n",
       "      <td>LUV2READ</td>\n",
       "      <td>Raunchy!!</td>\n",
       "      <td>1363651200</td>\n",
       "    </tr>\n",
       "    <tr>\n",
       "      <th>2</th>\n",
       "      <td>420209</td>\n",
       "      <td>B00B8ZR41E</td>\n",
       "      <td>[1, 1]</td>\n",
       "      <td>5</td>\n",
       "      <td>I loved these and so will you. They brought al...</td>\n",
       "      <td>04 29, 2013</td>\n",
       "      <td>A3QGO0LC8C5VFV</td>\n",
       "      <td>misty morse</td>\n",
       "      <td>Absolutely loved these stories</td>\n",
       "      <td>1367193600</td>\n",
       "    </tr>\n",
       "    <tr>\n",
       "      <th>3</th>\n",
       "      <td>500564</td>\n",
       "      <td>B00CG6R4ZK</td>\n",
       "      <td>[0, 0]</td>\n",
       "      <td>5</td>\n",
       "      <td>Very nice cozy look at the next step for the \"...</td>\n",
       "      <td>10 27, 2013</td>\n",
       "      <td>A2QSRP25LFCQ7X</td>\n",
       "      <td>Pam \"SMB,SLT\"</td>\n",
       "      <td>Great tidbit</td>\n",
       "      <td>1382832000</td>\n",
       "    </tr>\n",
       "    <tr>\n",
       "      <th>4</th>\n",
       "      <td>796721</td>\n",
       "      <td>B00HY03FJM</td>\n",
       "      <td>[0, 0]</td>\n",
       "      <td>5</td>\n",
       "      <td>Oh God I cried like a freaking baby. I have no...</td>\n",
       "      <td>03 17, 2014</td>\n",
       "      <td>A35X4ALOWRAYB4</td>\n",
       "      <td>Legit</td>\n",
       "      <td>Oh my lawd</td>\n",
       "      <td>1395014400</td>\n",
       "    </tr>\n",
       "  </tbody>\n",
       "</table>\n",
       "</div>"
      ],
      "text/plain": [
       "   Unnamed: 0        asin helpful  overall  \\\n",
       "0      130918  B0063LXXOA  [0, 0]        4   \n",
       "1      464192  B00BU67NY4  [0, 0]        5   \n",
       "2      420209  B00B8ZR41E  [1, 1]        5   \n",
       "3      500564  B00CG6R4ZK  [0, 0]        5   \n",
       "4      796721  B00HY03FJM  [0, 0]        5   \n",
       "\n",
       "                                          reviewText   reviewTime  \\\n",
       "0  I liked this story going back to visist the fi...  01 16, 2013   \n",
       "1  Not your typical love story. Popsicle was beyo...  03 19, 2013   \n",
       "2  I loved these and so will you. They brought al...  04 29, 2013   \n",
       "3  Very nice cozy look at the next step for the \"...  10 27, 2013   \n",
       "4  Oh God I cried like a freaking baby. I have no...  03 17, 2014   \n",
       "\n",
       "       reviewerID   reviewerName                         summary  \\\n",
       "0   A66QR0ZQ8YET8       K. Floyd             Every Second Counts   \n",
       "1   A9I2OPQT76SPD       LUV2READ                       Raunchy!!   \n",
       "2  A3QGO0LC8C5VFV    misty morse  Absolutely loved these stories   \n",
       "3  A2QSRP25LFCQ7X  Pam \"SMB,SLT\"                    Great tidbit   \n",
       "4  A35X4ALOWRAYB4          Legit                      Oh my lawd   \n",
       "\n",
       "   unixReviewTime  \n",
       "0      1358294400  \n",
       "1      1363651200  \n",
       "2      1367193600  \n",
       "3      1382832000  \n",
       "4      1395014400  "
      ]
     },
     "execution_count": 75,
     "metadata": {},
     "output_type": "execute_result"
    }
   ],
   "source": [
    "df.head()"
   ]
  },
  {
   "cell_type": "code",
   "execution_count": 76,
   "metadata": {
    "tags": []
   },
   "outputs": [
    {
     "name": "stdout",
     "output_type": "stream",
     "text": [
      "<class 'pandas.core.frame.DataFrame'>\n",
      "RangeIndex: 78610 entries, 0 to 78609\n",
      "Data columns (total 10 columns):\n",
      " #   Column          Non-Null Count  Dtype \n",
      "---  ------          --------------  ----- \n",
      " 0   Unnamed: 0      78610 non-null  int64 \n",
      " 1   asin            78610 non-null  object\n",
      " 2   helpful         78610 non-null  object\n",
      " 3   overall         78610 non-null  int64 \n",
      " 4   reviewText      78609 non-null  object\n",
      " 5   reviewTime      78610 non-null  object\n",
      " 6   reviewerID      78610 non-null  object\n",
      " 7   reviewerName    78338 non-null  object\n",
      " 8   summary         78600 non-null  object\n",
      " 9   unixReviewTime  78610 non-null  int64 \n",
      "dtypes: int64(3), object(7)\n",
      "memory usage: 6.0+ MB\n"
     ]
    }
   ],
   "source": [
    "df.info()"
   ]
  },
  {
   "cell_type": "code",
   "execution_count": null,
   "metadata": {},
   "outputs": [],
   "source": []
  },
  {
   "cell_type": "code",
   "execution_count": 77,
   "metadata": {},
   "outputs": [],
   "source": [
    "#Delete all features except overall, reviewText and summary\n",
    "df = df.drop(['Unnamed: 0','asin', 'helpful', 'reviewTime', 'reviewerID', 'reviewerName', 'unixReviewTime'], axis=1)"
   ]
  },
  {
   "cell_type": "code",
   "execution_count": 78,
   "metadata": {},
   "outputs": [
    {
     "data": {
      "text/plain": [
       "overall        0\n",
       "reviewText     1\n",
       "summary       10\n",
       "dtype: int64"
      ]
     },
     "execution_count": 78,
     "metadata": {},
     "output_type": "execute_result"
    }
   ],
   "source": [
    "df.isna().sum()"
   ]
  },
  {
   "cell_type": "code",
   "execution_count": 79,
   "metadata": {},
   "outputs": [
    {
     "data": {
      "text/html": [
       "<div>\n",
       "<style scoped>\n",
       "    .dataframe tbody tr th:only-of-type {\n",
       "        vertical-align: middle;\n",
       "    }\n",
       "\n",
       "    .dataframe tbody tr th {\n",
       "        vertical-align: top;\n",
       "    }\n",
       "\n",
       "    .dataframe thead th {\n",
       "        text-align: right;\n",
       "    }\n",
       "</style>\n",
       "<table border=\"1\" class=\"dataframe\">\n",
       "  <thead>\n",
       "    <tr style=\"text-align: right;\">\n",
       "      <th></th>\n",
       "      <th>overall</th>\n",
       "      <th>reviewText</th>\n",
       "      <th>summary</th>\n",
       "    </tr>\n",
       "  </thead>\n",
       "  <tbody>\n",
       "    <tr>\n",
       "      <th>0</th>\n",
       "      <td>4</td>\n",
       "      <td>I liked this story going back to visist the fi...</td>\n",
       "      <td>Every Second Counts</td>\n",
       "    </tr>\n",
       "    <tr>\n",
       "      <th>1</th>\n",
       "      <td>5</td>\n",
       "      <td>Not your typical love story. Popsicle was beyo...</td>\n",
       "      <td>Raunchy!!</td>\n",
       "    </tr>\n",
       "    <tr>\n",
       "      <th>2</th>\n",
       "      <td>5</td>\n",
       "      <td>I loved these and so will you. They brought al...</td>\n",
       "      <td>Absolutely loved these stories</td>\n",
       "    </tr>\n",
       "    <tr>\n",
       "      <th>3</th>\n",
       "      <td>5</td>\n",
       "      <td>Very nice cozy look at the next step for the \"...</td>\n",
       "      <td>Great tidbit</td>\n",
       "    </tr>\n",
       "    <tr>\n",
       "      <th>4</th>\n",
       "      <td>5</td>\n",
       "      <td>Oh God I cried like a freaking baby. I have no...</td>\n",
       "      <td>Oh my lawd</td>\n",
       "    </tr>\n",
       "  </tbody>\n",
       "</table>\n",
       "</div>"
      ],
      "text/plain": [
       "   overall                                         reviewText  \\\n",
       "0        4  I liked this story going back to visist the fi...   \n",
       "1        5  Not your typical love story. Popsicle was beyo...   \n",
       "2        5  I loved these and so will you. They brought al...   \n",
       "3        5  Very nice cozy look at the next step for the \"...   \n",
       "4        5  Oh God I cried like a freaking baby. I have no...   \n",
       "\n",
       "                          summary  \n",
       "0             Every Second Counts  \n",
       "1                       Raunchy!!  \n",
       "2  Absolutely loved these stories  \n",
       "3                    Great tidbit  \n",
       "4                      Oh my lawd  "
      ]
     },
     "execution_count": 79,
     "metadata": {},
     "output_type": "execute_result"
    }
   ],
   "source": [
    "df.head()"
   ]
  },
  {
   "cell_type": "code",
   "execution_count": 80,
   "metadata": {},
   "outputs": [],
   "source": [
    "#combine the reviewText and the summary features into one feature called reviewText - Be sure to add a space (' ') to seperate the two\n",
    "\n",
    "df['reviewText'] = df['reviewText'] + ' ' + df['summary']"
   ]
  },
  {
   "cell_type": "code",
   "execution_count": 81,
   "metadata": {},
   "outputs": [
    {
     "data": {
      "text/plain": [
       "overall        0\n",
       "reviewText    11\n",
       "summary       10\n",
       "dtype: int64"
      ]
     },
     "execution_count": 81,
     "metadata": {},
     "output_type": "execute_result"
    }
   ],
   "source": [
    "df.isna().sum()"
   ]
  },
  {
   "cell_type": "code",
   "execution_count": 82,
   "metadata": {},
   "outputs": [],
   "source": [
    "df['reviewText'].fillna(\"\",inplace = True) #fills empty/NaN values with an empty string \"\""
   ]
  },
  {
   "cell_type": "code",
   "execution_count": 83,
   "metadata": {},
   "outputs": [
    {
     "data": {
      "text/html": [
       "<div>\n",
       "<style scoped>\n",
       "    .dataframe tbody tr th:only-of-type {\n",
       "        vertical-align: middle;\n",
       "    }\n",
       "\n",
       "    .dataframe tbody tr th {\n",
       "        vertical-align: top;\n",
       "    }\n",
       "\n",
       "    .dataframe thead th {\n",
       "        text-align: right;\n",
       "    }\n",
       "</style>\n",
       "<table border=\"1\" class=\"dataframe\">\n",
       "  <thead>\n",
       "    <tr style=\"text-align: right;\">\n",
       "      <th></th>\n",
       "      <th>overall</th>\n",
       "      <th>reviewText</th>\n",
       "      <th>summary</th>\n",
       "    </tr>\n",
       "  </thead>\n",
       "  <tbody>\n",
       "    <tr>\n",
       "      <th>0</th>\n",
       "      <td>4</td>\n",
       "      <td>I liked this story going back to visist the fi...</td>\n",
       "      <td>Every Second Counts</td>\n",
       "    </tr>\n",
       "    <tr>\n",
       "      <th>1</th>\n",
       "      <td>5</td>\n",
       "      <td>Not your typical love story. Popsicle was beyo...</td>\n",
       "      <td>Raunchy!!</td>\n",
       "    </tr>\n",
       "    <tr>\n",
       "      <th>2</th>\n",
       "      <td>5</td>\n",
       "      <td>I loved these and so will you. They brought al...</td>\n",
       "      <td>Absolutely loved these stories</td>\n",
       "    </tr>\n",
       "    <tr>\n",
       "      <th>3</th>\n",
       "      <td>5</td>\n",
       "      <td>Very nice cozy look at the next step for the \"...</td>\n",
       "      <td>Great tidbit</td>\n",
       "    </tr>\n",
       "    <tr>\n",
       "      <th>4</th>\n",
       "      <td>5</td>\n",
       "      <td>Oh God I cried like a freaking baby. I have no...</td>\n",
       "      <td>Oh my lawd</td>\n",
       "    </tr>\n",
       "  </tbody>\n",
       "</table>\n",
       "</div>"
      ],
      "text/plain": [
       "   overall                                         reviewText  \\\n",
       "0        4  I liked this story going back to visist the fi...   \n",
       "1        5  Not your typical love story. Popsicle was beyo...   \n",
       "2        5  I loved these and so will you. They brought al...   \n",
       "3        5  Very nice cozy look at the next step for the \"...   \n",
       "4        5  Oh God I cried like a freaking baby. I have no...   \n",
       "\n",
       "                          summary  \n",
       "0             Every Second Counts  \n",
       "1                       Raunchy!!  \n",
       "2  Absolutely loved these stories  \n",
       "3                    Great tidbit  \n",
       "4                      Oh my lawd  "
      ]
     },
     "execution_count": 83,
     "metadata": {},
     "output_type": "execute_result"
    }
   ],
   "source": [
    "df.head()"
   ]
  },
  {
   "cell_type": "code",
   "execution_count": 84,
   "metadata": {},
   "outputs": [
    {
     "data": {
      "text/plain": [
       "overall\n",
       "5    45947\n",
       "4    20385\n",
       "3     7745\n",
       "2     2661\n",
       "1     1872\n",
       "Name: count, dtype: int64"
      ]
     },
     "execution_count": 84,
     "metadata": {},
     "output_type": "execute_result"
    }
   ],
   "source": [
    "df.overall.value_counts()"
   ]
  },
  {
   "cell_type": "code",
   "execution_count": 85,
   "metadata": {},
   "outputs": [],
   "source": [
    "def review_sentiment(rating): #This function should return 1 or 0\n",
    "    # Write a the code to replace rating of 1,2,3 with 0(not good) and 4,5 with 1(good) \n",
    "    '''\n",
    "   This function replaces ratings of 1, 2, or 3 with 0 (indicating \"not good\")\n",
    "    and ratings of 4 or 5 with 1 (indicating \"good\").\n",
    "    \n",
    "    Input:\n",
    "        rating (int): The rating to be classified.\n",
    "    \n",
    "    Output: \n",
    "        int: 1 if the rating is 4 or 5, indicating \"good\" sentiment, \n",
    "             0 if the rating is 1, 2, or 3, indicating \"not good\" sentiment.\n",
    "    '''\n",
    "    sentiment = None\n",
    "\n",
    "    if rating in [1,2,3]:\n",
    "        sentiment = 0\n",
    "    elif rating in [4,5]:\n",
    "        sentiment = 1\n",
    "\n",
    "    return sentiment"
   ]
  },
  {
   "cell_type": "code",
   "execution_count": 86,
   "metadata": {},
   "outputs": [],
   "source": [
    "#Transform the overal feature based on the review_sentiment above. Hint: Use the apply method on the Series 'overall'\n",
    "df['overall'] = df.overall.apply(review_sentiment)"
   ]
  },
  {
   "cell_type": "code",
   "execution_count": 87,
   "metadata": {},
   "outputs": [
    {
     "data": {
      "text/html": [
       "<div>\n",
       "<style scoped>\n",
       "    .dataframe tbody tr th:only-of-type {\n",
       "        vertical-align: middle;\n",
       "    }\n",
       "\n",
       "    .dataframe tbody tr th {\n",
       "        vertical-align: top;\n",
       "    }\n",
       "\n",
       "    .dataframe thead th {\n",
       "        text-align: right;\n",
       "    }\n",
       "</style>\n",
       "<table border=\"1\" class=\"dataframe\">\n",
       "  <thead>\n",
       "    <tr style=\"text-align: right;\">\n",
       "      <th></th>\n",
       "      <th>overall</th>\n",
       "      <th>reviewText</th>\n",
       "      <th>summary</th>\n",
       "    </tr>\n",
       "  </thead>\n",
       "  <tbody>\n",
       "    <tr>\n",
       "      <th>0</th>\n",
       "      <td>1</td>\n",
       "      <td>I liked this story going back to visist the fi...</td>\n",
       "      <td>Every Second Counts</td>\n",
       "    </tr>\n",
       "    <tr>\n",
       "      <th>1</th>\n",
       "      <td>1</td>\n",
       "      <td>Not your typical love story. Popsicle was beyo...</td>\n",
       "      <td>Raunchy!!</td>\n",
       "    </tr>\n",
       "    <tr>\n",
       "      <th>2</th>\n",
       "      <td>1</td>\n",
       "      <td>I loved these and so will you. They brought al...</td>\n",
       "      <td>Absolutely loved these stories</td>\n",
       "    </tr>\n",
       "    <tr>\n",
       "      <th>3</th>\n",
       "      <td>1</td>\n",
       "      <td>Very nice cozy look at the next step for the \"...</td>\n",
       "      <td>Great tidbit</td>\n",
       "    </tr>\n",
       "    <tr>\n",
       "      <th>4</th>\n",
       "      <td>1</td>\n",
       "      <td>Oh God I cried like a freaking baby. I have no...</td>\n",
       "      <td>Oh my lawd</td>\n",
       "    </tr>\n",
       "  </tbody>\n",
       "</table>\n",
       "</div>"
      ],
      "text/plain": [
       "   overall                                         reviewText  \\\n",
       "0        1  I liked this story going back to visist the fi...   \n",
       "1        1  Not your typical love story. Popsicle was beyo...   \n",
       "2        1  I loved these and so will you. They brought al...   \n",
       "3        1  Very nice cozy look at the next step for the \"...   \n",
       "4        1  Oh God I cried like a freaking baby. I have no...   \n",
       "\n",
       "                          summary  \n",
       "0             Every Second Counts  \n",
       "1                       Raunchy!!  \n",
       "2  Absolutely loved these stories  \n",
       "3                    Great tidbit  \n",
       "4                      Oh my lawd  "
      ]
     },
     "execution_count": 87,
     "metadata": {},
     "output_type": "execute_result"
    }
   ],
   "source": [
    "df.head()"
   ]
  },
  {
   "cell_type": "code",
   "execution_count": 88,
   "metadata": {},
   "outputs": [
    {
     "data": {
      "text/plain": [
       "overall\n",
       "1    66332\n",
       "0    12278\n",
       "Name: count, dtype: int64"
      ]
     },
     "execution_count": 88,
     "metadata": {},
     "output_type": "execute_result"
    }
   ],
   "source": [
    "df.overall.value_counts()"
   ]
  },
  {
   "cell_type": "code",
   "execution_count": 89,
   "metadata": {},
   "outputs": [],
   "source": [
    "stop = set(stopwords.words('english'))\n",
    "punctuation = list(string.punctuation)\n",
    "stop.update(punctuation)"
   ]
  },
  {
   "cell_type": "code",
   "execution_count": 90,
   "metadata": {},
   "outputs": [],
   "source": [
    "def clean_text(text):\n",
    "    final_text = []\n",
    "    for i in text.split():\n",
    "        if i.strip().lower() not in stop:\n",
    "            word = i.strip().lower()\n",
    "            final_text.append(word)\n",
    "    return \" \".join(final_text) "
   ]
  },
  {
   "cell_type": "code",
   "execution_count": 91,
   "metadata": {},
   "outputs": [],
   "source": [
    "df['reviewText'] = df['reviewText'].apply(clean_text)"
   ]
  },
  {
   "cell_type": "markdown",
   "metadata": {},
   "source": [
    "### Main difference between stratified and non-stratified splits:\n",
    "\n",
    "Stratified Split: When using stratified sampling, the class distribution in the original dataset is preserved in both the training and testing sets. This helps ensure that the model sees a representative sample of all classes during training, leading to potentially better generalization performance. Stratified sampling is especially important when the class distribution is imbalanced.\n",
    "\n",
    "Non-Stratified Split: In a non-stratified split, the data is randomly divided into training and testing sets without regard to the class distribution. As a result, the proportion of classes in the training and testing sets may differ from that in the original dataset. This can lead to issues, especially if the class distribution is skewed or imbalanced. The model may not be adequately trained on minority classes, leading to biased performance evaluation.\n",
    "\n"
   ]
  },
  {
   "cell_type": "code",
   "execution_count": 92,
   "metadata": {},
   "outputs": [],
   "source": [
    "X = df['reviewText']\n",
    "y = df['overall']\n",
    "\n",
    "x_train,x_test,y_train,y_test = train_test_split(X, y, test_size=0.2, stratify=y, random_state=1)  #Use train_test_split function and assign 80% data to the training set and 20% to the test set.\n",
    "#Should you consider a stratify split? Why?"
   ]
  },
  {
   "cell_type": "code",
   "execution_count": 93,
   "metadata": {},
   "outputs": [
    {
     "name": "stdout",
     "output_type": "stream",
     "text": [
      "Ratings Shape\n",
      "(62888,)\n",
      "(62888,)\n",
      "Labels Shape\n",
      "(15722,)\n",
      "(15722,)\n"
     ]
    }
   ],
   "source": [
    "print(\"Ratings Shape\")\n",
    "print(x_train.shape)\n",
    "print(y_train.shape)\n",
    "print(\"Labels Shape\")\n",
    "print(x_test.shape)\n",
    "print(y_test.shape)\n"
   ]
  },
  {
   "cell_type": "markdown",
   "metadata": {},
   "source": [
    "# Answer\n",
    "I applied a stratify split on this dataset, since there's an imbalance on ratings in the overall column with 66332 positive ratings and only 12278 negative. A stratify split ensures that the proportion of each class (rating) is preserved in both the training and testing sets and provides a more accurate representation of the dataset's distribution in both training and testing sets."
   ]
  },
  {
   "cell_type": "code",
   "execution_count": 94,
   "metadata": {},
   "outputs": [
    {
     "name": "stdout",
     "output_type": "stream",
     "text": [
      "BOW_cv_train: (62888, 34033)\n",
      "BOW_cv_test: (15722, 34033)\n"
     ]
    }
   ],
   "source": [
    "cv=CountVectorizer(min_df=0,max_df=1,ngram_range=(1,1))\n",
    "#transformed train reviews\n",
    "cv_train_reviews=cv.fit_transform(x_train)\n",
    "#transformed test reviews\n",
    "cv_test_reviews=cv.transform(x_test)\n",
    "\n",
    "print('BOW_cv_train:',cv_train_reviews.shape)\n",
    "print('BOW_cv_test:',cv_test_reviews.shape)"
   ]
  },
  {
   "cell_type": "code",
   "execution_count": 95,
   "metadata": {},
   "outputs": [
    {
     "data": {
      "text/html": [
       "<style>#sk-container-id-3 {color: black;background-color: white;}#sk-container-id-3 pre{padding: 0;}#sk-container-id-3 div.sk-toggleable {background-color: white;}#sk-container-id-3 label.sk-toggleable__label {cursor: pointer;display: block;width: 100%;margin-bottom: 0;padding: 0.3em;box-sizing: border-box;text-align: center;}#sk-container-id-3 label.sk-toggleable__label-arrow:before {content: \"▸\";float: left;margin-right: 0.25em;color: #696969;}#sk-container-id-3 label.sk-toggleable__label-arrow:hover:before {color: black;}#sk-container-id-3 div.sk-estimator:hover label.sk-toggleable__label-arrow:before {color: black;}#sk-container-id-3 div.sk-toggleable__content {max-height: 0;max-width: 0;overflow: hidden;text-align: left;background-color: #f0f8ff;}#sk-container-id-3 div.sk-toggleable__content pre {margin: 0.2em;color: black;border-radius: 0.25em;background-color: #f0f8ff;}#sk-container-id-3 input.sk-toggleable__control:checked~div.sk-toggleable__content {max-height: 200px;max-width: 100%;overflow: auto;}#sk-container-id-3 input.sk-toggleable__control:checked~label.sk-toggleable__label-arrow:before {content: \"▾\";}#sk-container-id-3 div.sk-estimator input.sk-toggleable__control:checked~label.sk-toggleable__label {background-color: #d4ebff;}#sk-container-id-3 div.sk-label input.sk-toggleable__control:checked~label.sk-toggleable__label {background-color: #d4ebff;}#sk-container-id-3 input.sk-hidden--visually {border: 0;clip: rect(1px 1px 1px 1px);clip: rect(1px, 1px, 1px, 1px);height: 1px;margin: -1px;overflow: hidden;padding: 0;position: absolute;width: 1px;}#sk-container-id-3 div.sk-estimator {font-family: monospace;background-color: #f0f8ff;border: 1px dotted black;border-radius: 0.25em;box-sizing: border-box;margin-bottom: 0.5em;}#sk-container-id-3 div.sk-estimator:hover {background-color: #d4ebff;}#sk-container-id-3 div.sk-parallel-item::after {content: \"\";width: 100%;border-bottom: 1px solid gray;flex-grow: 1;}#sk-container-id-3 div.sk-label:hover label.sk-toggleable__label {background-color: #d4ebff;}#sk-container-id-3 div.sk-serial::before {content: \"\";position: absolute;border-left: 1px solid gray;box-sizing: border-box;top: 0;bottom: 0;left: 50%;z-index: 0;}#sk-container-id-3 div.sk-serial {display: flex;flex-direction: column;align-items: center;background-color: white;padding-right: 0.2em;padding-left: 0.2em;position: relative;}#sk-container-id-3 div.sk-item {position: relative;z-index: 1;}#sk-container-id-3 div.sk-parallel {display: flex;align-items: stretch;justify-content: center;background-color: white;position: relative;}#sk-container-id-3 div.sk-item::before, #sk-container-id-3 div.sk-parallel-item::before {content: \"\";position: absolute;border-left: 1px solid gray;box-sizing: border-box;top: 0;bottom: 0;left: 50%;z-index: -1;}#sk-container-id-3 div.sk-parallel-item {display: flex;flex-direction: column;z-index: 1;position: relative;background-color: white;}#sk-container-id-3 div.sk-parallel-item:first-child::after {align-self: flex-end;width: 50%;}#sk-container-id-3 div.sk-parallel-item:last-child::after {align-self: flex-start;width: 50%;}#sk-container-id-3 div.sk-parallel-item:only-child::after {width: 0;}#sk-container-id-3 div.sk-dashed-wrapped {border: 1px dashed gray;margin: 0 0.4em 0.5em 0.4em;box-sizing: border-box;padding-bottom: 0.4em;background-color: white;}#sk-container-id-3 div.sk-label label {font-family: monospace;font-weight: bold;display: inline-block;line-height: 1.2em;}#sk-container-id-3 div.sk-label-container {text-align: center;}#sk-container-id-3 div.sk-container {/* jupyter's `normalize.less` sets `[hidden] { display: none; }` but bootstrap.min.css set `[hidden] { display: none !important; }` so we also need the `!important` here to be able to override the default hidden behavior on the sphinx rendered scikit-learn.org. See: https://github.com/scikit-learn/scikit-learn/issues/21755 */display: inline-block !important;position: relative;}#sk-container-id-3 div.sk-text-repr-fallback {display: none;}</style><div id=\"sk-container-id-3\" class=\"sk-top-container\"><div class=\"sk-text-repr-fallback\"><pre>MultinomialNB()</pre><b>In a Jupyter environment, please rerun this cell to show the HTML representation or trust the notebook. <br />On GitHub, the HTML representation is unable to render, please try loading this page with nbviewer.org.</b></div><div class=\"sk-container\" hidden><div class=\"sk-item\"><div class=\"sk-estimator sk-toggleable\"><input class=\"sk-toggleable__control sk-hidden--visually\" id=\"sk-estimator-id-3\" type=\"checkbox\" checked><label for=\"sk-estimator-id-3\" class=\"sk-toggleable__label sk-toggleable__label-arrow\">MultinomialNB</label><div class=\"sk-toggleable__content\"><pre>MultinomialNB()</pre></div></div></div></div></div>"
      ],
      "text/plain": [
       "MultinomialNB()"
      ]
     },
     "execution_count": 95,
     "metadata": {},
     "output_type": "execute_result"
    }
   ],
   "source": [
    "#Initialize and fit a multinomial Naive Bayes model to the training set\n",
    "mnb = MultinomialNB()\n",
    "mnb.fit(cv_train_reviews, y_train)"
   ]
  },
  {
   "cell_type": "code",
   "execution_count": 96,
   "metadata": {},
   "outputs": [
    {
     "name": "stdout",
     "output_type": "stream",
     "text": [
      "Multinomial Naive Bayes Accuracy: 0.8389517873044142\n"
     ]
    }
   ],
   "source": [
    "#Return the predictions on the test set using the accuracy_score and/or other metrics of interest\n",
    "\n",
    "mnb_pred = mnb.predict(cv_test_reviews)  #returns the predicted class labels for each test review\n",
    "\n",
    "accuracy = accuracy_score(y_test, mnb_pred)\n",
    "print(\"Multinomial Naive Bayes Accuracy:\", accuracy)\n"
   ]
  },
  {
   "cell_type": "code",
   "execution_count": 97,
   "metadata": {},
   "outputs": [
    {
     "name": "stdout",
     "output_type": "stream",
     "text": [
      "\n",
      "Classification Report:\n",
      "              precision    recall  f1-score   support\n",
      "\n",
      "           0       0.18      0.01      0.02      2456\n",
      "           1       0.84      0.99      0.91     13266\n",
      "\n",
      "    accuracy                           0.84     15722\n",
      "   macro avg       0.51      0.50      0.46     15722\n",
      "weighted avg       0.74      0.84      0.77     15722\n",
      "\n"
     ]
    }
   ],
   "source": [
    "#Use the classification_report function and print the result using the predicted results on the test set\n",
    "\n",
    "print(\"\\nClassification Report:\")\n",
    "print(classification_report(y_test, mnb_pred))"
   ]
  },
  {
   "cell_type": "code",
   "execution_count": 98,
   "metadata": {},
   "outputs": [
    {
     "data": {
      "text/plain": [
       "array([[   22,  2434],\n",
       "       [   98, 13168]])"
      ]
     },
     "execution_count": 98,
     "metadata": {},
     "output_type": "execute_result"
    }
   ],
   "source": [
    "cm_cv = confusion_matrix(y_test,mnb_pred)\n",
    "cm_cv"
   ]
  },
  {
   "cell_type": "code",
   "execution_count": 99,
   "metadata": {},
   "outputs": [],
   "source": [
    "cm_cv = pd.DataFrame(cm_cv, index=[0,1], columns=[0,1])\n",
    "cm_cv.index.name = 'Actual'\n",
    "cm_cv.columns.name = 'Predicted'"
   ]
  },
  {
   "cell_type": "code",
   "execution_count": 100,
   "metadata": {},
   "outputs": [
    {
     "data": {
      "image/png": "[encoded data removed]",
      "text/plain": [
       "<Figure size 1000x1000 with 2 Axes>"
      ]
     },
     "metadata": {},
     "output_type": "display_data"
    }
   ],
   "source": [
    "#Create a heat map to visualize the confusion matrix\n",
    "\n",
    "plt.figure(figsize=(10, 10))\n",
    "sns.heatmap(cm_cv, annot=True, cmap=\"Reds\", fmt=\"d\", \n",
    "            xticklabels=['0', '1'], \n",
    "            yticklabels=['0', '1'])\n",
    "plt.title(\"Confusion Matrix\")\n",
    "plt.xlabel(\"Predicted Label\")\n",
    "plt.ylabel(\"True Label\")\n",
    "plt.show()\n"
   ]
  },
  {
   "cell_type": "code",
   "execution_count": null,
   "metadata": {},
   "outputs": [],
   "source": []
  },
  {
   "cell_type": "code",
   "execution_count": null,
   "metadata": {},
   "outputs": [],
   "source": []
  }
 ],
 "metadata": {
  "kernelspec": {
   "display_name": "Python 3 (ipykernel)",
   "language": "python",
   "name": "python3"
  },
  "language_info": {
   "codemirror_mode": {
    "name": "ipython",
    "version": 3
   },
   "file_extension": ".py",
   "mimetype": "text/x-python",
   "name": "python",
   "nbconvert_exporter": "python",
   "pygments_lexer": "ipython3",
   "version": "3.11.7"
  }
 },
 "nbformat": 4,
 "nbformat_minor": 4
}
